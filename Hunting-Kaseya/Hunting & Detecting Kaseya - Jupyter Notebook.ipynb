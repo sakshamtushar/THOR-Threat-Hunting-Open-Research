{
 "cells": [
  {
   "cell_type": "markdown",
   "id": "c03b24f8-00b6-44f2-b90a-e29597c138ba",
   "metadata": {},
   "source": [
    "# Revil-Kaseya - Detection & Threat Hunting Notebook"
   ]
  },
  {
   "cell_type": "markdown",
   "id": "ab83d868-39e2-473a-b337-449a05d2d9a4",
   "metadata": {},
   "source": [
    "* This Data is from a live Revil-Ransomware Sample that was shipped with Agent.exe for Kaseya-Supply Chain attack.\n",
    "* The sample was Detonated-studied-reversed in a contained environment to study it.\n",
    "* The Whole analytics is attributed towards emulation based Threat Hunting Technique.\n",
    "* The Aim is to learn and Provide analytics for security Operations folks/Hunts to quickly adapt and test in their environment for the Malware\n",
    "* The companion Blog is Hosted at : https://sakshamtushar.gitbook.io/threat-hunting-on-the-rocks/threat-research-and-analytics/revil-kaseya-supply-chain-attack\n",
    "* if you're using or referring this notebook any-where, it would be kind of you if you attribute and mention about the author of the Notebook. \n",
    "* if you see an error, need support, have additional Queries reach our to me over linkedin,My details are at : https://sakshamtushar.gitbook.io/threat-hunting-on-the-rocks/\n",
    "\n",
    "\n",
    "**List of hunts are as Below :**\n",
    "* 1.1 - Suspicious File-Write Operations(Unstructured)\n",
    "* 1.2 - MsMpEng.exe Binary/  Mpsvc.dll dropped in Temporary Location (Structured)\n",
    "* 1.3 - DLL Side-Loading : DLL library Loaded from a  temporary Location(Unstructured)\n",
    "* 1.4 - Known RegistryKey Value Modification(Structured) \n",
    "* 1.5 - Abnormally High Disk Write Operation - Data Encryption(Unstructured) \n",
    "* 1.6 - Un-usual Child-Parent Process Relationship(unstructured)\n",
    "\n",
    "Structred Hunts have highest convertability to Detections, You can Turn them into high fidelity detections for the respective Case study"
   ]
  },
  {
   "cell_type": "markdown",
   "id": "47fe7af7-17b0-44d7-96cc-eacab9f9b610",
   "metadata": {},
   "source": [
    "### Importing Libraries"
   ]
  },
  {
   "cell_type": "code",
   "execution_count": 1,
   "id": "30469d56-60e3-457c-a04f-aad5135f816e",
   "metadata": {},
   "outputs": [],
   "source": [
    "from pyspark.sql import SparkSession\n",
    "spark = SparkSession.builder.getOrCreate()\n",
    "spark.conf.set(\"spark.sql.caseSensitive\", \"true\")\n",
    "from elasticsearch import Elasticsearch\n",
    "from elasticsearch import RequestsHttpConnection\n",
    "from elasticsearch_dsl import Search\n",
    "import pandas as pd\n",
    "\n",
    "import warnings\n",
    "warnings.filterwarnings('ignore')"
   ]
  },
  {
   "cell_type": "code",
   "execution_count": 2,
   "id": "93d98e46-8d37-47ac-ad81-c0bb297e3332",
   "metadata": {},
   "outputs": [],
   "source": [
    "pd.set_option('display.max_columns',None)\n",
    "pd.set_option('display.max_rows',None)\n",
    "pd.set_option('display.max_colwidth',-1)"
   ]
  },
  {
   "cell_type": "markdown",
   "id": "209b8e05-760c-4b68-87ad-251cc396416b",
   "metadata": {},
   "source": [
    "### Initialize Elasticsearch Client"
   ]
  },
  {
   "cell_type": "code",
   "execution_count": 3,
   "id": "1e60f844-fc38-4ca0-b9ec-fafe07ef54d7",
   "metadata": {},
   "outputs": [],
   "source": [
    "#es = Elasticsearch(['https://192.168.29.20:9200'])\n",
    "es2 = Elasticsearch(['https://192.168.29.248:9200'], connection_class=RequestsHttpConnection, http_auth=('elastic', 'y4M0SXLypw4dYupJ8qxJ'), use_ssl=True, verify_certs=False)\n",
    "searchContext = Search(using=es2, index='logs-endpoint.events*', doc_type='doc')"
   ]
  },
  {
   "cell_type": "markdown",
   "id": "4d12d622-44a0-44e9-a220-6f7b6d12d869",
   "metadata": {},
   "source": [
    "### Attack Surface Fabrication\n",
    "#### Writing a Function to Query Elasticsearch and return us a dataset to work on"
   ]
  },
  {
   "cell_type": "code",
   "execution_count": 4,
   "id": "5ec0b79c-12c5-4fbd-a6a1-e88a478c63cd",
   "metadata": {},
   "outputs": [],
   "source": [
    "def queryes(query) :\n",
    "    print(query)\n",
    "    s = searchContext.query('query_string', query=query).filter('range' ,  **{'@timestamp': {'gte': 20211220 , 'lt': 20211222, 'format' : 'basic_date'}})\n",
    "    response = s.execute()\n",
    "    if response.success():\n",
    "        df = pd.json_normalize((d.to_dict() for d in s.scan()))\n",
    "        sdf=spark.createDataFrame(df.astype(str))\n",
    "        clean_df = sdf.toDF(*(c.replace('.', '_') for c in sdf.columns))\n",
    "        clean_df = clean_df.toDF(*(c.replace('@', '') for c in clean_df.columns))\n",
    "        return clean_df\n",
    "    else :\n",
    "        print(\"Es query Failed\")"
   ]
  },
  {
   "cell_type": "code",
   "execution_count": 5,
   "id": "266694a7-c057-4c53-930c-1db6d91e5454",
   "metadata": {},
   "outputs": [
    {
     "name": "stdout",
     "output_type": "stream",
     "text": [
      "event.category:file AND event.action:creation\n"
     ]
    }
   ],
   "source": [
    "# Gathering File Write Operations\n",
    "dataset= queryes(\"event.category:file AND event.action:creation\")\n",
    "dataset.createOrReplaceTempView('dataset')"
   ]
  },
  {
   "cell_type": "markdown",
   "id": "e64aaac5-90fd-455d-9041-530109b7615b",
   "metadata": {},
   "source": [
    "## Unstructured Hunt :  Looking for anomalous File Write Operations in Temporary File Directory\n",
    "----------------------------------"
   ]
  },
  {
   "cell_type": "code",
   "execution_count": 6,
   "id": "b3b04714-c195-4b1a-8ffe-f07262f2ea71",
   "metadata": {},
   "outputs": [
    {
     "name": "stdout",
     "output_type": "stream",
     "text": [
      "+-----+-------------------------------------------+----------------+------------------+\n",
      "|count|file_name                                  |process_name    |process_parent_pid|\n",
      "+-----+-------------------------------------------+----------------+------------------+\n",
      "|1    |widevinecdm.dll                            |msedge.exe      |4496              |\n",
      "|1    |widevinecdm.dll.sig                        |msedge.exe      |4496              |\n",
      "|1    |Microsoft.CognitiveServices.Speech.core.dll|msedge.exe      |4496              |\n",
      "|1    |MsMpEng.exe                                |Kaseya_agent.exe|4496              |\n",
      "|1    |mpsvc.dll                                  |Kaseya_agent.exe|4496              |\n",
      "+-----+-------------------------------------------+----------------+------------------+\n",
      "\n"
     ]
    }
   ],
   "source": [
    "df1=spark.sql('select count(*) as count,file_name,process_name,process_parent_pid from dataset where (file_name like \"%exe%\" OR file_name like \"%dll%\") GROUP BY file_name,process_name,process_parent_pid order by process_name desc;')\n",
    "df1.show(1000,truncate=False)"
   ]
  },
  {
   "cell_type": "markdown",
   "id": "883b3ab2-8687-4ca4-ba1d-8f1c3d1c34cc",
   "metadata": {},
   "source": [
    "#### Suspicious Observation :  MsMpEng.exe Binary in temporary Location is Suspicious at first glance, what is MS-defender Binary doing in temporary location.Also Agent.exe does'nt seem to be a lolbin and seems to be a 3rd party binary."
   ]
  },
  {
   "cell_type": "code",
   "execution_count": 7,
   "id": "8a7ec083-21f4-4e8f-8fe7-a5e33a2855ca",
   "metadata": {},
   "outputs": [
    {
     "name": "stdout",
     "output_type": "stream",
     "text": [
      "+----------------+------------------+\n",
      "|process_name    |process_parent_pid|\n",
      "+----------------+------------------+\n",
      "|Kaseya_agent.exe|4496              |\n",
      "|msedge.exe      |4496              |\n",
      "+----------------+------------------+\n",
      "\n"
     ]
    }
   ],
   "source": [
    "df1=spark.sql('select Distinct process_name,process_parent_pid from dataset where (file_name like \"%exe%\" OR file_name like \"%dll%\");')\n",
    "df1.show(1000,truncate=False)"
   ]
  },
  {
   "cell_type": "markdown",
   "id": "f788d361-f6f3-45d7-9b24-cf3cb5bd03ac",
   "metadata": {},
   "source": [
    "##### Interestingly we have two entries where file write was performed by Agent.exe, Let's Pull Process Data to Correlate!!"
   ]
  },
  {
   "cell_type": "code",
   "execution_count": 8,
   "id": "05b3eabf-5b4e-47a4-9bd3-97dd6e9d8204",
   "metadata": {},
   "outputs": [
    {
     "name": "stdout",
     "output_type": "stream",
     "text": [
      "event.category:process\n"
     ]
    }
   ],
   "source": [
    "#pulling Process Dataset\n",
    "proc_dataset=queryes(\"event.category:process\")\n",
    "proc_dataset.createOrReplaceTempView('processes')"
   ]
  },
  {
   "cell_type": "markdown",
   "id": "a2219520-f523-4d4d-8814-59b46115f021",
   "metadata": {},
   "source": [
    "##### Process Hashes of Processess Writing in the Directory : "
   ]
  },
  {
   "cell_type": "code",
   "execution_count": 9,
   "id": "a50f95db-5a3e-4452-b575-7e85f9c1f572",
   "metadata": {},
   "outputs": [
    {
     "name": "stdout",
     "output_type": "stream",
     "text": [
      "+----------------+-----------------------------+----------------------------------------------------------------+-------------------------------------------+\n",
      "|process_name    |process_code_signature_status|process_hash_sha256                                             |file_name                                  |\n",
      "+----------------+-----------------------------+----------------------------------------------------------------+-------------------------------------------+\n",
      "|Kaseya_agent.exe|trusted                      |d55f983c994caa160ec63a59f6b4250fe67fb3e8c43a388aec60a4a6978e9f1e|MsMpEng.exe                                |\n",
      "|Kaseya_agent.exe|trusted                      |d55f983c994caa160ec63a59f6b4250fe67fb3e8c43a388aec60a4a6978e9f1e|mpsvc.dll                                  |\n",
      "|msedge.exe      |trusted                      |18a839142796d6e4d0fa44f5a75e0cd79cc5c1a5fde39b7cc00faec50a899b6d|Microsoft.CognitiveServices.Speech.core.dll|\n",
      "|msedge.exe      |trusted                      |18a839142796d6e4d0fa44f5a75e0cd79cc5c1a5fde39b7cc00faec50a899b6d|widevinecdm.dll.sig                        |\n",
      "|msedge.exe      |trusted                      |18a839142796d6e4d0fa44f5a75e0cd79cc5c1a5fde39b7cc00faec50a899b6d|widevinecdm.dll                            |\n",
      "+----------------+-----------------------------+----------------------------------------------------------------+-------------------------------------------+\n",
      "\n"
     ]
    }
   ],
   "source": [
    "spark.sql(\"select distinct p.process_name,p.process_code_signature_status,p.process_hash_sha256,d.file_name from processes p, dataset d where p.process_pid = d.process_pid AND (d.file_name like '%exe%' OR d.file_name like '%dll%') order by p.process_name\").show(1000,truncate=False)"
   ]
  },
  {
   "attachments": {
    "bca9323b-27d6-4bed-a647-fd3ad3665255.png": {
     "image/png": "[encoded data removed]"
    }
   },
   "cell_type": "markdown",
   "id": "adbd704d-c718-4298-9ef9-02c683b883dd",
   "metadata": {},
   "source": [
    "#### Suspicious Observation: Agent.exe Doesn't seem to have very good Reputation !!!!\n",
    "![image.png](attachment:bca9323b-27d6-4bed-a647-fd3ad3665255.png)"
   ]
  },
  {
   "cell_type": "markdown",
   "id": "6fd73076-115c-4e94-babe-0b9ea0fa5b0d",
   "metadata": {},
   "source": [
    "#### let's gather Hashes& CommandLines of these Process Executables Create a table of Parent Process, Child Process and Files Written on Disk "
   ]
  },
  {
   "cell_type": "code",
   "execution_count": 10,
   "id": "7a513738-8099-4993-b004-2bf25efe4f24",
   "metadata": {},
   "outputs": [
    {
     "name": "stdout",
     "output_type": "stream",
     "text": [
      "-RECORD 0-----------------------------------------------------------------------------------------\n",
      " writing_process               | Kaseya_agent.exe                                                 \n",
      " dropped_file                  | mpsvc.dll                                                        \n",
      " Parent_process                | explorer.exe                                                     \n",
      " writing_process_cmdLine       | \"C:\\Users\\IEUser\\Downloads\\Kaseya_agent.exe\"                     \n",
      " process_code_signature_status | trusted                                                          \n",
      " process_hash_sha256           | d55f983c994caa160ec63a59f6b4250fe67fb3e8c43a388aec60a4a6978e9f1e \n",
      "-RECORD 1-----------------------------------------------------------------------------------------\n",
      " writing_process               | Kaseya_agent.exe                                                 \n",
      " dropped_file                  | MsMpEng.exe                                                      \n",
      " Parent_process                | explorer.exe                                                     \n",
      " writing_process_cmdLine       | \"C:\\Users\\IEUser\\Downloads\\Kaseya_agent.exe\"                     \n",
      " process_code_signature_status | trusted                                                          \n",
      " process_hash_sha256           | d55f983c994caa160ec63a59f6b4250fe67fb3e8c43a388aec60a4a6978e9f1e \n",
      "\n"
     ]
    }
   ],
   "source": [
    "spark.sql(\"select   distinct d.process_name as writing_process, d.file_name as dropped_file, p.process_parent_name as Parent_process,p.process_command_line as writing_process_cmdLine,\\\n",
    "          p.process_code_signature_status,p.process_hash_sha256 \\\n",
    "          from processes p, dataset d where p.process_name = d.process_name and d.process_name='Kaseya_agent.exe'\").show(200,truncate=False, vertical=True)"
   ]
  },
  {
   "cell_type": "markdown",
   "id": "298bdcec-4335-4db1-a592-b7e3d67800d0",
   "metadata": {},
   "source": [
    "#### Now there are enough peices of information to Chase this Rabbit Hole for Suspicious Agent.exe :\n",
    "* Msmgeng.exe written in temporary Location is Suspicious(Reason : What's a defender binary doing in temporary Location)\n",
    "* A non Windows Process write Defender binary (Reason : the operation is suspicious cause the process tree is like : Explorer.exe -> Agent.exe -> Drop MsMpEng.exe) \n",
    "* A DLL file is also dropped by same process (Reason : Could be Masquerade, Could be Tampered DLL, Could be payload embedded in DLL Entry Point,Could be DLL Search order hijacking attacks , DLL Side-loading attacks, lots of possibilities)"
   ]
  },
  {
   "cell_type": "markdown",
   "id": "3d2538d7-0adb-4a65-bcc9-396aa43af4f2",
   "metadata": {},
   "source": [
    "#### A sub-hypothesis could be devised at this point to chase this path : Malware Dropped by non-legitimate process and proceed with Investigation, Sample Acquisition, Reverse Engineering, Malware Sandboxing, Detonation."
   ]
  },
  {
   "cell_type": "markdown",
   "id": "61effa7e-4890-46aa-826c-55ad6143dc0b",
   "metadata": {},
   "source": [
    " "
   ]
  },
  {
   "cell_type": "markdown",
   "id": "a30e1caa-8ffe-46b4-a872-6c88ce8bef67",
   "metadata": {},
   "source": [
    "## Structured Hunt :  MsMpEng.exe & mpsvc.dll Binary dropped in Temporary Location\n",
    "----------------------------------"
   ]
  },
  {
   "cell_type": "markdown",
   "id": "d74b3e85-17fc-4397-b2b1-65bbab0d1bd8",
   "metadata": {},
   "source": [
    "Note : I won't suggest this structured Hunt, although this could be converted into a detection in your EDR, This Hunt falls too low on the Pyramid of Pain and although there is a behaviour exhibhited but is not really a behavioural search hence an attacker could easily pass this Hunt/Detection Technique"
   ]
  },
  {
   "cell_type": "code",
   "execution_count": 11,
   "id": "463dc257-5cc6-4949-b94c-04d53a226eb5",
   "metadata": {},
   "outputs": [
    {
     "name": "stdout",
     "output_type": "stream",
     "text": [
      "-RECORD 0-----------------------------------------------------------------------------------------\n",
      " Parent_process                | explorer.exe                                                     \n",
      " writing_process_cmdLine       | \"C:\\Users\\IEUser\\Downloads\\Kaseya_agent.exe\"                     \n",
      " writing_process               | Kaseya_agent.exe                                                 \n",
      " process_code_signature_status | trusted                                                          \n",
      " process_hash_sha256           | d55f983c994caa160ec63a59f6b4250fe67fb3e8c43a388aec60a4a6978e9f1e \n",
      " file_name                     | mpsvc.dll                                                        \n",
      "-RECORD 1-----------------------------------------------------------------------------------------\n",
      " Parent_process                | explorer.exe                                                     \n",
      " writing_process_cmdLine       | \"C:\\Users\\IEUser\\Downloads\\Kaseya_agent.exe\"                     \n",
      " writing_process               | Kaseya_agent.exe                                                 \n",
      " process_code_signature_status | trusted                                                          \n",
      " process_hash_sha256           | d55f983c994caa160ec63a59f6b4250fe67fb3e8c43a388aec60a4a6978e9f1e \n",
      " file_name                     | MsMpEng.exe                                                      \n",
      "\n"
     ]
    }
   ],
   "source": [
    "spark.sql(\"select distinct p.process_parent_name as Parent_process,p.process_command_line as writing_process_cmdLine,d.process_name as writing_process,p.process_code_signature_status,p.process_hash_sha256,d.file_name from processes p, dataset d where p.process_name = d.process_name and (d.file_name='MsMpEng.exe' OR d.file_name='mpsvc.dll')\").show(200,truncate=False,vertical=True)"
   ]
  },
  {
   "cell_type": "markdown",
   "id": "fff6910f-ac11-4872-998c-feef5b8b36ab",
   "metadata": {},
   "source": [
    "## UnStructured Hunt :  DLL library Loaded from a  temporary Location\n",
    "----------------------------------"
   ]
  },
  {
   "cell_type": "code",
   "execution_count": 12,
   "id": "89e6127d-7ff3-47c9-b1bc-9a50b04b95d7",
   "metadata": {},
   "outputs": [
    {
     "name": "stdout",
     "output_type": "stream",
     "text": [
      "event.category :library\n"
     ]
    }
   ],
   "source": [
    "#Pulling DLL Loading dataset from Elastic\n",
    "dll_dataset=queryes(\"event.category :library\")\n",
    "dll_dataset.createOrReplaceTempView('lib_dataset')"
   ]
  },
  {
   "cell_type": "code",
   "execution_count": 13,
   "id": "ef6c6987-a25c-41c4-9acc-3bccab7f8c5b",
   "metadata": {},
   "outputs": [
    {
     "name": "stdout",
     "output_type": "stream",
     "text": [
      "+------------+----------------------------------------------+----------+--------------------------------------------+\n",
      "|Process_name|Process_path                                  |DLL_loaded|dll_path                                    |\n",
      "+------------+----------------------------------------------+----------+--------------------------------------------+\n",
      "|MsMpEng.exe |C:\\Users\\IEUser\\AppData\\Local\\Temp\\MsMpEng.exe|mpsvc.dll |C:\\Users\\IEUser\\AppData\\Local\\Temp\\mpsvc.dll|\n",
      "+------------+----------------------------------------------+----------+--------------------------------------------+\n",
      "\n"
     ]
    }
   ],
   "source": [
    "spark.sql(\"select distinct lib_dataset.process_name as Process_name, lib_dataset.process_executable as Process_path, dll_name as DLL_loaded , dll_path from lib_dataset where lib_dataset.dll_path like '%Temp%'\").show(truncate=False)"
   ]
  },
  {
   "cell_type": "markdown",
   "id": "c6aeabf2-2260-4600-aa1f-c3b7cd95f782",
   "metadata": {},
   "source": [
    "#### Dropped MsMpEng.exe is performing DLL SideLoading of Dropped DLL mpsvc.dll from temporary location."
   ]
  },
  {
   "cell_type": "markdown",
   "id": "a7e93d1d-24c6-41fe-872b-d30d0b08e60f",
   "metadata": {},
   "source": [
    "  "
   ]
  },
  {
   "cell_type": "markdown",
   "id": "4015397c-c7dd-4550-8087-1e8c0726e32b",
   "metadata": {},
   "source": [
    "## Structured Hunt :  Known RegistryKey  Value Modification\n",
    "----------------------------------"
   ]
  },
  {
   "cell_type": "code",
   "execution_count": 14,
   "id": "c4b44e35-8e77-41d4-afbe-30d67f203330",
   "metadata": {},
   "outputs": [
    {
     "name": "stdout",
     "output_type": "stream",
     "text": [
      "event.category : registry and event.action : modification\n"
     ]
    }
   ],
   "source": [
    "#Pulling DLL Loading dataset from Elastic\n",
    "registry_dataset=queryes(\"event.category : registry and event.action : modification\")\n",
    "registry_dataset.createOrReplaceTempView('reg_dataset')"
   ]
  },
  {
   "cell_type": "code",
   "execution_count": 15,
   "id": "6ac010be-96ba-4cf9-95b9-84c49cf70dcf",
   "metadata": {},
   "outputs": [
    {
     "name": "stdout",
     "output_type": "stream",
     "text": [
      "+------------------------------------------------------------------------------------------+--------------+------------+\n",
      "|registry_path                                                                             |registry_value|process_name|\n",
      "+------------------------------------------------------------------------------------------+--------------+------------+\n",
      "|HKEY_USERS\\S-1-5-21-321011808-3761883066-353627080-1000\\Software\\BlackLivesMatter\\Ed7     |Ed7           |MsMpEng.exe |\n",
      "|HKEY_USERS\\S-1-5-21-321011808-3761883066-353627080-1000\\Software\\BlackLivesMatter\\QIeQ    |QIeQ          |MsMpEng.exe |\n",
      "|HKEY_USERS\\S-1-5-21-321011808-3761883066-353627080-1000\\Software\\BlackLivesMatter\\96Ia6   |96Ia6         |MsMpEng.exe |\n",
      "|HKEY_USERS\\S-1-5-21-321011808-3761883066-353627080-1000\\Software\\BlackLivesMatter\\Ucr1RB  |Ucr1RB        |MsMpEng.exe |\n",
      "|HKEY_USERS\\S-1-5-21-321011808-3761883066-353627080-1000\\Software\\BlackLivesMatter\\wJWsTYE |wJWsTYE       |MsMpEng.exe |\n",
      "|HKEY_USERS\\S-1-5-21-321011808-3761883066-353627080-1000\\Software\\BlackLivesMatter\\JmfOBvhb|JmfOBvhb      |MsMpEng.exe |\n",
      "+------------------------------------------------------------------------------------------+--------------+------------+\n",
      "\n"
     ]
    }
   ],
   "source": [
    "spark.sql(\"select registry_path,registry_value,process_name from reg_dataset where registry_path like '%Black%'\").show(truncate=False)"
   ]
  },
  {
   "cell_type": "markdown",
   "id": "7744c839-1459-476e-90d9-f472aee7a838",
   "metadata": {},
   "source": [
    "## Unstructured Hunt : Abnormally High Disk Write Operation - Data Encryption \n",
    "----------------------------------"
   ]
  },
  {
   "cell_type": "code",
   "execution_count": 17,
   "id": "19d543d7-a1c9-44e6-ac30-33a5a1ae6e53",
   "metadata": {},
   "outputs": [
    {
     "name": "stdout",
     "output_type": "stream",
     "text": [
      "event.dataset: endpoint.events.file\n"
     ]
    }
   ],
   "source": [
    "file_dataset=queryes(\"event.dataset: endpoint.events.file\")\n",
    "file_dataset.createOrReplaceTempView('file_dataset')"
   ]
  },
  {
   "cell_type": "code",
   "execution_count": 18,
   "id": "4612ba39-09e0-4a18-b3e9-d664800211b9",
   "metadata": {},
   "outputs": [
    {
     "name": "stdout",
     "output_type": "stream",
     "text": [
      "+-----------------+-----+\n",
      "|process_name     |count|\n",
      "+-----------------+-----+\n",
      "|msedge.exe       |1866 |\n",
      "|System           |788  |\n",
      "|MsMpEng.exe      |292  |\n",
      "|svchost.exe      |230  |\n",
      "|chrome.exe       |151  |\n",
      "|provtool.exe     |132  |\n",
      "|SearchUI.exe     |62   |\n",
      "|OneDrive.exe     |11   |\n",
      "|explorer.exe     |10   |\n",
      "|FileCoAuth.exe   |6    |\n",
      "|osqueryd.exe     |6    |\n",
      "|Sysmon64.exe     |6    |\n",
      "|mmc.exe          |6    |\n",
      "|smartscreen.exe  |4    |\n",
      "|SearchIndexer.exe|2    |\n",
      "|lsass.exe        |2    |\n",
      "|taskhostw.exe    |2    |\n",
      "|ruby.exe         |2    |\n",
      "|Kaseya_agent.exe |2    |\n",
      "|metricbeat.exe   |1    |\n",
      "+-----------------+-----+\n",
      "only showing top 20 rows\n",
      "\n"
     ]
    }
   ],
   "source": [
    "spark.sql(\"select process_name,count(process_name) as count from file_dataset GROUP BY process_name ORDER by count Desc\").show(truncate=False)"
   ]
  },
  {
   "cell_type": "code",
   "execution_count": 19,
   "id": "9e3daefc-ffaf-41c1-aee4-162a89eae5c0",
   "metadata": {},
   "outputs": [],
   "source": [
    "df_fileset=spark.sql(\"select process_name,count(process_name) as count from file_dataset GROUP BY process_name ORDER by count Desc\").toPandas()"
   ]
  },
  {
   "cell_type": "code",
   "execution_count": 20,
   "id": "0b93c8b4-afb8-4481-bf73-d84e928c9fad",
   "metadata": {},
   "outputs": [
    {
     "data": {
      "text/html": [
       "<div>\n",
       "<style scoped>\n",
       "    .dataframe tbody tr th:only-of-type {\n",
       "        vertical-align: middle;\n",
       "    }\n",
       "\n",
       "    .dataframe tbody tr th {\n",
       "        vertical-align: top;\n",
       "    }\n",
       "\n",
       "    .dataframe thead th {\n",
       "        text-align: right;\n",
       "    }\n",
       "</style>\n",
       "<table border=\"1\" class=\"dataframe\">\n",
       "  <thead>\n",
       "    <tr style=\"text-align: right;\">\n",
       "      <th></th>\n",
       "      <th>process_name</th>\n",
       "      <th>count</th>\n",
       "    </tr>\n",
       "  </thead>\n",
       "  <tbody>\n",
       "    <tr>\n",
       "      <th>0</th>\n",
       "      <td>msedge.exe</td>\n",
       "      <td>1866</td>\n",
       "    </tr>\n",
       "    <tr>\n",
       "      <th>1</th>\n",
       "      <td>System</td>\n",
       "      <td>788</td>\n",
       "    </tr>\n",
       "    <tr>\n",
       "      <th>2</th>\n",
       "      <td>MsMpEng.exe</td>\n",
       "      <td>292</td>\n",
       "    </tr>\n",
       "    <tr>\n",
       "      <th>3</th>\n",
       "      <td>svchost.exe</td>\n",
       "      <td>230</td>\n",
       "    </tr>\n",
       "    <tr>\n",
       "      <th>4</th>\n",
       "      <td>chrome.exe</td>\n",
       "      <td>151</td>\n",
       "    </tr>\n",
       "    <tr>\n",
       "      <th>5</th>\n",
       "      <td>provtool.exe</td>\n",
       "      <td>132</td>\n",
       "    </tr>\n",
       "    <tr>\n",
       "      <th>6</th>\n",
       "      <td>SearchUI.exe</td>\n",
       "      <td>62</td>\n",
       "    </tr>\n",
       "    <tr>\n",
       "      <th>7</th>\n",
       "      <td>OneDrive.exe</td>\n",
       "      <td>11</td>\n",
       "    </tr>\n",
       "    <tr>\n",
       "      <th>8</th>\n",
       "      <td>explorer.exe</td>\n",
       "      <td>10</td>\n",
       "    </tr>\n",
       "    <tr>\n",
       "      <th>9</th>\n",
       "      <td>mmc.exe</td>\n",
       "      <td>6</td>\n",
       "    </tr>\n",
       "    <tr>\n",
       "      <th>10</th>\n",
       "      <td>osqueryd.exe</td>\n",
       "      <td>6</td>\n",
       "    </tr>\n",
       "    <tr>\n",
       "      <th>11</th>\n",
       "      <td>FileCoAuth.exe</td>\n",
       "      <td>6</td>\n",
       "    </tr>\n",
       "    <tr>\n",
       "      <th>12</th>\n",
       "      <td>Sysmon64.exe</td>\n",
       "      <td>6</td>\n",
       "    </tr>\n",
       "    <tr>\n",
       "      <th>13</th>\n",
       "      <td>smartscreen.exe</td>\n",
       "      <td>4</td>\n",
       "    </tr>\n",
       "    <tr>\n",
       "      <th>14</th>\n",
       "      <td>taskhostw.exe</td>\n",
       "      <td>2</td>\n",
       "    </tr>\n",
       "    <tr>\n",
       "      <th>15</th>\n",
       "      <td>ruby.exe</td>\n",
       "      <td>2</td>\n",
       "    </tr>\n",
       "    <tr>\n",
       "      <th>16</th>\n",
       "      <td>SearchIndexer.exe</td>\n",
       "      <td>2</td>\n",
       "    </tr>\n",
       "    <tr>\n",
       "      <th>17</th>\n",
       "      <td>lsass.exe</td>\n",
       "      <td>2</td>\n",
       "    </tr>\n",
       "    <tr>\n",
       "      <th>18</th>\n",
       "      <td>Kaseya_agent.exe</td>\n",
       "      <td>2</td>\n",
       "    </tr>\n",
       "    <tr>\n",
       "      <th>19</th>\n",
       "      <td>metricbeat.exe</td>\n",
       "      <td>1</td>\n",
       "    </tr>\n",
       "    <tr>\n",
       "      <th>20</th>\n",
       "      <td>setup.exe</td>\n",
       "      <td>1</td>\n",
       "    </tr>\n",
       "    <tr>\n",
       "      <th>21</th>\n",
       "      <td>filebeat.exe</td>\n",
       "      <td>1</td>\n",
       "    </tr>\n",
       "    <tr>\n",
       "      <th>22</th>\n",
       "      <td>osquerybeat.exe</td>\n",
       "      <td>1</td>\n",
       "    </tr>\n",
       "  </tbody>\n",
       "</table>\n",
       "</div>"
      ],
      "text/plain": [
       "         process_name  count\n",
       "0   msedge.exe         1866 \n",
       "1   System             788  \n",
       "2   MsMpEng.exe        292  \n",
       "3   svchost.exe        230  \n",
       "4   chrome.exe         151  \n",
       "5   provtool.exe       132  \n",
       "6   SearchUI.exe       62   \n",
       "7   OneDrive.exe       11   \n",
       "8   explorer.exe       10   \n",
       "9   mmc.exe            6    \n",
       "10  osqueryd.exe       6    \n",
       "11  FileCoAuth.exe     6    \n",
       "12  Sysmon64.exe       6    \n",
       "13  smartscreen.exe    4    \n",
       "14  taskhostw.exe      2    \n",
       "15  ruby.exe           2    \n",
       "16  SearchIndexer.exe  2    \n",
       "17  lsass.exe          2    \n",
       "18  Kaseya_agent.exe   2    \n",
       "19  metricbeat.exe     1    \n",
       "20  setup.exe          1    \n",
       "21  filebeat.exe       1    \n",
       "22  osquerybeat.exe    1    "
      ]
     },
     "execution_count": 20,
     "metadata": {},
     "output_type": "execute_result"
    }
   ],
   "source": [
    "df_fileset"
   ]
  },
  {
   "cell_type": "code",
   "execution_count": 21,
   "id": "7c4905b7-cc7a-4418-b228-94790a4c6580",
   "metadata": {},
   "outputs": [
    {
     "data": {
      "text/plain": [
       "count    23.000000  \n",
       "mean     155.826087 \n",
       "std      411.596520 \n",
       "min      1.000000   \n",
       "25%      2.000000   \n",
       "50%      6.000000   \n",
       "75%      97.000000  \n",
       "max      1866.000000\n",
       "Name: count, dtype: float64"
      ]
     },
     "execution_count": 21,
     "metadata": {},
     "output_type": "execute_result"
    }
   ],
   "source": [
    "df_fileset['count'].describe()"
   ]
  },
  {
   "cell_type": "code",
   "execution_count": 22,
   "id": "5851bf4a-f623-468c-bdbc-bbffd6714ed7",
   "metadata": {},
   "outputs": [
    {
     "data": {
      "image/png": "[encoded data removed]",
      "text/plain": [
       "<Figure size 432x288 with 1 Axes>"
      ]
     },
     "metadata": {
      "needs_background": "light"
     },
     "output_type": "display_data"
    }
   ],
   "source": [
    "boxplot = df_fileset.boxplot(column=['count'],grid=False, rot=45, fontsize=15)"
   ]
  },
  {
   "cell_type": "markdown",
   "id": "2fea2b4d-5c60-4f34-bff0-78b3d69ae238",
   "metadata": {},
   "source": [
    "#### Treat all data points above 75% mark as points of investigation (ignoring below 25% as we arelooking for abonormally high values)"
   ]
  },
  {
   "cell_type": "markdown",
   "id": "51785c0e-7fe0-40fc-bd82-6c844ca6f794",
   "metadata": {},
   "source": [
    "## Unstructured Hunt : Illegal Child-parent Process Relationships\n",
    "----------------------------------"
   ]
  },
  {
   "cell_type": "code",
   "execution_count": 43,
   "id": "d891e74e-5da8-4054-a179-bc9c6c64dda6",
   "metadata": {},
   "outputs": [
    {
     "name": "stdout",
     "output_type": "stream",
     "text": [
      "+------------------------------------------------------------------+-----------------------+\n",
      "|process_name                                                      |process_parent_name    |\n",
      "+------------------------------------------------------------------+-----------------------+\n",
      "|MsMpEng.exe                                                       |Kaseya_agent.exe       |\n",
      "|MicrosoftEdgeUpdate.exe                                           |MicrosoftEdgeUpdate.exe|\n",
      "|conhost.exe                                                       |MpCmdRun.exe           |\n",
      "|MpCmdRun.exe                                                      |MsMpEng.exe            |\n",
      "|netsh.exe                                                         |MsMpEng.exe            |\n",
      "|mmc.exe                                                           |RuntimeBroker.exe      |\n",
      "|SearchFilterHost.exe                                              |SearchIndexer.exe      |\n",
      "|SearchProtocolHost.exe                                            |SearchIndexer.exe      |\n",
      "|Sysmon64.exe                                                      |Sysmon64.exe           |\n",
      "|MemCompression                                                    |System                 |\n",
      "|smss.exe                                                          |System                 |\n",
      "|System                                                            |System Idle Process    |\n",
      "|chrome.exe                                                        |chrome.exe             |\n",
      "|PING.EXE                                                          |cmd.exe                |\n",
      "|nslookup.exe                                                      |cmd.exe                |\n",
      "|ipconfig.exe                                                      |cmd.exe                |\n",
      "|ruby.exe                                                          |cmd.exe                |\n",
      "|certutil.exe                                                      |cmd.exe                |\n",
      "|conhost.exe                                                       |cmd.exe                |\n",
      "|Sysmon64.exe                                                      |cmd.exe                |\n",
      "|HOSTNAME.EXE                                                      |cmd.exe                |\n",
      "|conhost.exe                                                       |dmclient.exe           |\n",
      "|filebeat.exe                                                      |elastic-agent.exe      |\n",
      "|metricbeat.exe                                                    |elastic-agent.exe      |\n",
      "|osquerybeat.exe                                                   |elastic-agent.exe      |\n",
      "|vmtoolsd.exe                                                      |explorer.exe           |\n",
      "|msedge.exe                                                        |explorer.exe           |\n",
      "|chrome.exe                                                        |explorer.exe           |\n",
      "|cmd.exe                                                           |explorer.exe           |\n",
      "|Kaseya_agent.exe                                                  |explorer.exe           |\n",
      "|vm3dservice.exe                                                   |explorer.exe           |\n",
      "|SecurityHealthSystray.exe                                         |explorer.exe           |\n",
      "|OneDrive.exe                                                      |explorer.exe           |\n",
      "|mmc.exe                                                           |explorer.exe           |\n",
      "|notepad.exe                                                       |explorer.exe           |\n",
      "|conhost.exe                                                       |filebeat.exe           |\n",
      "|conhost.exe                                                       |metricbeat.exe         |\n",
      "|cookie_exporter.exe                                               |msedge.exe             |\n",
      "|msedge.exe                                                        |msedge.exe             |\n",
      "|setup.exe                                                         |msedge.exe             |\n",
      "|System Idle Process                                               |nan                    |\n",
      "|explorer.exe                                                      |nan                    |\n",
      "|csrss.exe                                                         |nan                    |\n",
      "|Registry                                                          |nan                    |\n",
      "|wininit.exe                                                       |nan                    |\n",
      "|winlogon.exe                                                      |nan                    |\n",
      "|conhost.exe                                                       |netsh.exe              |\n",
      "|conhost.exe                                                       |osquerybeat.exe        |\n",
      "|osqueryd.exe                                                      |osquerybeat.exe        |\n",
      "|HOSTNAME.EXE                                                      |ruby.exe               |\n",
      "|cmd.exe                                                           |ruby.exe               |\n",
      "|svchost.exe                                                       |services.exe           |\n",
      "|dllhost.exe                                                       |services.exe           |\n",
      "|MsMpEng.exe                                                       |services.exe           |\n",
      "|msdtc.exe                                                         |services.exe           |\n",
      "|NisSrv.exe                                                        |services.exe           |\n",
      "|elastic-agent.exe                                                 |services.exe           |\n",
      "|SearchIndexer.exe                                                 |services.exe           |\n",
      "|Sysmon64.exe                                                      |services.exe           |\n",
      "|ruby.exe                                                          |services.exe           |\n",
      "|wlms.exe                                                          |services.exe           |\n",
      "|SgrmBroker.exe                                                    |services.exe           |\n",
      "|sppsvc.exe                                                        |services.exe           |\n",
      "|msiexec.exe                                                       |services.exe           |\n",
      "|SecurityHealthService.exe                                         |services.exe           |\n",
      "|elastic-endpoint.exe                                              |services.exe           |\n",
      "|MicrosoftEdgeUpdate.exe                                           |services.exe           |\n",
      "|TrustedInstaller.exe                                              |services.exe           |\n",
      "|GoogleUpdate.exe                                                  |services.exe           |\n",
      "|VGAuthService.exe                                                 |services.exe           |\n",
      "|vmtoolsd.exe                                                      |services.exe           |\n",
      "|spoolsv.exe                                                       |services.exe           |\n",
      "|MpCmdRun.exe                                                      |svchost.exe            |\n",
      "|CHXSmartScreen.exe                                                |svchost.exe            |\n",
      "|Microsoft.Photos.exe                                              |svchost.exe            |\n",
      "|SystemSettings.exe                                                |svchost.exe            |\n",
      "|SecHealthUI.exe                                                   |svchost.exe            |\n",
      "|MicrosoftEdgeUpdate.exe                                           |svchost.exe            |\n",
      "|backgroundTaskHost.exe                                            |svchost.exe            |\n",
      "|consent.exe                                                       |svchost.exe            |\n",
      "|WinStore.App.exe                                                  |svchost.exe            |\n",
      "|smartscreen.exe                                                   |svchost.exe            |\n",
      "|FileCoAuth.exe                                                    |svchost.exe            |\n",
      "|ctfmon.exe                                                        |svchost.exe            |\n",
      "|RuntimeBroker.exe                                                 |svchost.exe            |\n",
      "|taskhostw.exe                                                     |svchost.exe            |\n",
      "|SearchUI.exe                                                      |svchost.exe            |\n",
      "|SkypeApp.exe                                                      |svchost.exe            |\n",
      "|ShellExperienceHost.exe                                           |svchost.exe            |\n",
      "|dmclient.exe                                                      |svchost.exe            |\n",
      "|YourPhone.exe                                                     |svchost.exe            |\n",
      "|rundll32.exe                                                      |svchost.exe            |\n",
      "|sihost.exe                                                        |svchost.exe            |\n",
      "|SkypeBackgroundHost.exe                                           |svchost.exe            |\n",
      "|ApplicationFrameHost.exe                                          |svchost.exe            |\n",
      "|SpeechModelDownload.exe                                           |svchost.exe            |\n",
      "|TiWorker.exe                                                      |svchost.exe            |\n",
      "|dllhost.exe                                                       |svchost.exe            |\n",
      "|WmiPrvSE.exe                                                      |svchost.exe            |\n",
      "|GoogleUpdate.exe                                                  |svchost.exe            |\n",
      "|provtool.exe                                                      |svchost.exe            |\n",
      "|CompPkgSrv.exe                                                    |svchost.exe            |\n",
      "|unsecapp.exe                                                      |svchost.exe            |\n",
      "|WindowsInternal.ComposableShell.Experiences.TextInput.InputApp.exe|svchost.exe            |\n",
      "|services.exe                                                      |wininit.exe            |\n",
      "|lsass.exe                                                         |wininit.exe            |\n",
      "|fontdrvhost.exe                                                   |wininit.exe            |\n",
      "|LogonUI.exe                                                       |winlogon.exe           |\n",
      "|dwm.exe                                                           |winlogon.exe           |\n",
      "|fontdrvhost.exe                                                   |winlogon.exe           |\n",
      "+------------------------------------------------------------------+-----------------------+\n",
      "\n"
     ]
    }
   ],
   "source": [
    "spark.sql(\"select distinct(process_name),process_parent_name from processes Order by process_parent_name\").show(2000, False)"
   ]
  },
  {
   "cell_type": "markdown",
   "id": "3ebaef50-b7cf-406d-b51f-09c1f0d81ef2",
   "metadata": {},
   "source": [
    "#### Interesting Entries & potential Point of Investigations observed from above table are : \n",
    " \n",
    "Kaseya_agent.exe   --> MsMpEng.exe     \n",
    "MsMpEng.exe --> MpCmdRun.exe  \n",
    "MsMpEng.exe --> netsh.exe                                                     \n",
    "cmd.exe --> certutil.exe                \n",
    "msedge.exe --> setup.exe                                                      \n"
   ]
  },
  {
   "cell_type": "code",
   "execution_count": 52,
   "id": "c3dd42b5-fdc1-46d0-a6cd-151d0d607ac8",
   "metadata": {},
   "outputs": [
    {
     "name": "stdout",
     "output_type": "stream",
     "text": [
      "+------------+---------------------------------------------------------------------------------------------------------------------------------------------------------------------------------------------------------+\n",
      "|process_name|process_command_line                                                                                                                                                                                     |\n",
      "+------------+---------------------------------------------------------------------------------------------------------------------------------------------------------------------------------------------------------+\n",
      "|MpCmdRun.exe|\"C:\\Program Files\\Windows Defender\\mpcmdrun.exe\" -wddisable                                                                                                                                              |\n",
      "|MpCmdRun.exe|\"C:\\ProgramData\\Microsoft\\Windows Defender\\platform\\4.18.2111.5-0\\MpCmdRun.exe\" GetDeviceTicket -AccessKey 88826F85-53AF-A2D8-3FA4-770FB5C083D0                                                          |\n",
      "|MpCmdRun.exe|\"C:\\ProgramData\\Microsoft\\Windows Defender\\platform\\4.18.2111.5-0\\MpCmdRun.exe\" GetDeviceTicket -AccessKey 88826F85-53AF-A2D8-3FA4-770FB5C083D0                                                          |\n",
      "|MpCmdRun.exe|\"C:\\ProgramData\\Microsoft\\Windows Defender\\platform\\4.18.2111.5-0\\MpCmdRun.exe\" -DisableService                                                                                                          |\n",
      "|MsMpEng.exe |\"C:\\ProgramData\\Microsoft\\Windows Defender\\platform\\4.18.2111.5-0\\MsMpEng.exe\"                                                                                                                           |\n",
      "|MpCmdRun.exe|\"C:\\ProgramData\\Microsoft\\Windows Defender\\platform\\4.18.2111.5-0\\MpCmdRun.exe\" -DisableService                                                                                                          |\n",
      "|MpCmdRun.exe|\"C:\\Program Files\\Windows Defender\\mpcmdrun.exe\" -wddisable                                                                                                                                              |\n",
      "|MsMpEng.exe |\"C:\\ProgramData\\Microsoft\\Windows Defender\\platform\\4.18.2111.5-0\\MsMpEng.exe\"                                                                                                                           |\n",
      "|setup.exe   |\"C:\\Program Files (x86)\\Microsoft\\Edge\\Application\\96.0.1054.62\\Installer\\setup.exe\" --configure-user-settings --verbose-logging --system-level --msedge --channel=stable --force-configure-user-settings|\n",
      "|setup.exe   |\"C:\\Program Files (x86)\\Microsoft\\Edge\\Application\\96.0.1054.62\\Installer\\setup.exe\" --configure-user-settings --verbose-logging --system-level --msedge --channel=stable --force-configure-user-settings|\n",
      "|certutil.exe|certutil  -hashfile Agent.exe                                                                                                                                                                            |\n",
      "|certutil.exe|certutil  -hashfile Agent.exe                                                                                                                                                                            |\n",
      "|MsMpEng.exe |\"C:\\Users\\IEUser\\AppData\\Local\\Temp\\MsMpEng.exe\"                                                                                                                                                         |\n",
      "|netsh.exe   |netsh advfirewall firewall set rule group=\"Network Discovery\" new enable=Yes                                                                                                                             |\n",
      "|netsh.exe   |netsh advfirewall firewall set rule group=\"Network Discovery\" new enable=Yes                                                                                                                             |\n",
      "|MsMpEng.exe |\"C:\\Users\\IEUser\\AppData\\Local\\Temp\\MsMpEng.exe\"                                                                                                                                                         |\n",
      "+------------+---------------------------------------------------------------------------------------------------------------------------------------------------------------------------------------------------------+\n",
      "\n"
     ]
    }
   ],
   "source": [
    "spark.sql(\"select process_name,process_command_line from processes where process_name in ('netsh.exe','certutil.exe','MsMpEng.exe','setup.exe','MpCmdRun.exe')\").show(2000, False)"
   ]
  },
  {
   "cell_type": "markdown",
   "id": "412f8b75-df78-4338-9d19-a5602c644e09",
   "metadata": {},
   "source": [
    "* **MpCmdRun.exe -> Interesting event where MpCmdRun.exe is trying to disable the Service.**\n",
    "* **Netsh.exe -> Interesting attempt of turning on Network Discovery using netsh.exe**\n",
    "* Certutil.exe ->These are my executions where i was trying to match hash of a file with the sample i acquired, THese can be Ignored. \n",
    "* Setup.exe -> This is Microsoft edge Installation. for when my windows OS updated.Can be Ignored.\n",
    "* **MsMpEng.exe ->Execution from Temporary location, Execution of v4.18.2111 from ProgramData**"
   ]
  },
  {
   "cell_type": "markdown",
   "id": "c4727c20-15c4-486c-9148-c028af4197c7",
   "metadata": {},
   "source": [
    "## netsh.exe execution clearly shows Modification of system configuration for lateral Movement hence could be converted into a detection/Structred Hunt."
   ]
  },
  {
   "cell_type": "code",
   "execution_count": 55,
   "id": "f0224187-1939-47da-a4e9-b9f948fa5a3f",
   "metadata": {},
   "outputs": [
    {
     "name": "stdout",
     "output_type": "stream",
     "text": [
      "+------------+----------------------------------------------------------------------------+\n",
      "|process_name|process_command_line                                                        |\n",
      "+------------+----------------------------------------------------------------------------+\n",
      "|netsh.exe   |netsh advfirewall firewall set rule group=\"Network Discovery\" new enable=Yes|\n",
      "|netsh.exe   |netsh advfirewall firewall set rule group=\"Network Discovery\" new enable=Yes|\n",
      "+------------+----------------------------------------------------------------------------+\n",
      "\n"
     ]
    }
   ],
   "source": [
    " spark.sql(\"select process_name,process_command_line from processes where process_name ='netsh.exe' and process_command_line='netsh advfirewall firewall set rule group=\\\"Network Discovery\\\" new enable=Yes'\").show(2000, False)"
   ]
  },
  {
   "cell_type": "markdown",
   "id": "daff7243-5261-4193-9c06-0003531f00ed",
   "metadata": {},
   "source": [
    "# DLL Side-loading via MsMpEng.exe - Details "
   ]
  },
  {
   "cell_type": "markdown",
   "id": "744d283b-d8c9-4b93-82f4-49b9cdeb9d49",
   "metadata": {},
   "source": [
    "we saw that the MsMpEng.exe binary was dropped on the machine along with mpsvc.dll which were actually used for malicious intention.\n",
    "We also do understand that mpsvc.dll was sideloaded into MsMpEng.exe, but there are a few questions that we need to find answers for to understand what happened."
   ]
  },
  {
   "cell_type": "markdown",
   "id": "1fc8698d-004f-4727-ab2e-c1432e58b9ef",
   "metadata": {},
   "source": [
    "## Why drop MsMpEng.exe, when it is already present on the Machine a Lolbin ???"
   ]
  },
  {
   "cell_type": "code",
   "execution_count": 65,
   "id": "a43c4210-56c0-4b16-a8fc-c9d0d0433cfa",
   "metadata": {},
   "outputs": [
    {
     "name": "stdout",
     "output_type": "stream",
     "text": [
      "-RECORD 0----------------------------------------------------------------------------------------------\n",
      " process_hash_sha256  | a7c1fe30930d982d69cc263076142edb451ae896b67efbca347b54e064c93bb9               \n",
      " process_name         | MsMpEng.exe                                                                    \n",
      " process_command_line | \"C:\\ProgramData\\Microsoft\\Windows Defender\\platform\\4.18.2111.5-0\\MsMpEng.exe\" \n",
      "-RECORD 1----------------------------------------------------------------------------------------------\n",
      " process_hash_sha256  | 33bc14d231a4afaa18f06513766d5f69d8b88f1e697cd127d24fb4b72ad44c7a               \n",
      " process_name         | MsMpEng.exe                                                                    \n",
      " process_command_line | \"C:\\Users\\IEUser\\AppData\\Local\\Temp\\MsMpEng.exe\"                               \n",
      "\n"
     ]
    }
   ],
   "source": [
    "#grabbing all the processes that correlated to MsMpEng.exe on the Endpoint \n",
    "spark.sql(\"select  distinct(process_hash_sha256),process_name,process_command_line from processes where process_name like '%MsMpEng.exe%'\").show(100,truncate = False, vertical = True)"
   ]
  },
  {
   "cell_type": "markdown",
   "id": "fc21f69a-f24a-4609-9565-a03e43a64f58",
   "metadata": {},
   "source": [
    "As you can observe there are two hashes for MsMpEng.exe, One is of the original Binary and another one of the Dropped Binary.\n",
    "Correlating data from VirusTotal : "
   ]
  },
  {
   "cell_type": "markdown",
   "id": "c4fa48fe-a01c-4e80-a577-1e61ea2b1746",
   "metadata": {},
   "source": [
    "* 33bc14d231a4afaa18f06513766d5f69d8b88f1e697cd127d24fb4b72ad44c7a(Dropped Binary) hash is also bening and is a signed legitimate binary"
   ]
  },
  {
   "attachments": {
    "643aa93d-1e22-4f95-a14f-e25d6f37e51d.png": {
     "image/png": "[encoded data removed]"
    }
   },
   "cell_type": "markdown",
   "id": "1b9282df-9aed-4d76-9041-7e15183d4197",
   "metadata": {},
   "source": [
    "![image.png](attachment:643aa93d-1e22-4f95-a14f-e25d6f37e51d.png)"
   ]
  },
  {
   "cell_type": "markdown",
   "id": "aeb540da-4348-4d29-bf77-72441d940fdb",
   "metadata": {},
   "source": [
    "* a7c1fe30930d982d69cc263076142edb451ae896b67efbca347b54e064c93bb9(Original Binary) is also legitimate and signed binary, except for the fact that this binary is newer (V4.18)"
   ]
  },
  {
   "attachments": {
    "7ce3a37f-b9ce-4473-b913-ff6bb6764e68.png": {
     "image/png": "[encoded data removed]"
    }
   },
   "cell_type": "markdown",
   "id": "fa506db1-63f7-4f4d-9413-df1de35d58e0",
   "metadata": {},
   "source": [
    "![image.png](attachment:7ce3a37f-b9ce-4473-b913-ff6bb6764e68.png)"
   ]
  },
  {
   "cell_type": "markdown",
   "id": "b6f212ed-b359-4f3d-b5ec-75feda1738aa",
   "metadata": {},
   "source": [
    "* The older MsMpEng.exe was susceptible to DLL Side loading Technique and hence was perfect for targetting and attacking"
   ]
  }
 ],
 "metadata": {
  "kernelspec": {
   "display_name": "Python 3",
   "language": "python",
   "name": "python3"
  },
  "language_info": {
   "codemirror_mode": {
    "name": "ipython",
    "version": 3
   },
   "file_extension": ".py",
   "mimetype": "text/x-python",
   "name": "python",
   "nbconvert_exporter": "python",
   "pygments_lexer": "ipython3",
   "version": "3.9.4"
  },
  "toc-autonumbering": true,
  "toc-showmarkdowntxt": false,
  "toc-showtags": false
 },
 "nbformat": 4,
 "nbformat_minor": 5
}
